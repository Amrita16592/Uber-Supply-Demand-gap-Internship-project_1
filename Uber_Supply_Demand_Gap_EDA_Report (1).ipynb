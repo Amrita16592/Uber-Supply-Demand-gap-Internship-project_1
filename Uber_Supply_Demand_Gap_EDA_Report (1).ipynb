{
  "nbformat": 4,
  "nbformat_minor": 0,
  "metadata": {
    "colab": {
      "private_outputs": true,
      "provenance": [],
      "collapsed_sections": [
        "vncDsAP0Gaoa",
        "FJNUwmbgGyua",
        "w6K7xa23Elo4",
        "yQaldy8SH6Dl",
        "PH-0ReGfmX4f",
        "mDgbUHAGgjLW",
        "O_i_v8NEhb9l",
        "HhfV-JJviCcP",
        "Y3lxredqlCYt",
        "3RnN4peoiCZX",
        "x71ZqKXriCWQ",
        "7hBIi_osiCS2",
        "JlHwYmJAmNHm",
        "35m5QtbWiB9F",
        "PoPl-ycgm1ru",
        "H0kj-8xxnORC",
        "nA9Y7ga8ng1Z",
        "PBTbrJXOngz2",
        "u3PMJOP6ngxN",
        "dauF4eBmngu3",
        "bKJF3rekwFvQ",
        "MSa1f5Uengrz",
        "GF8Ens_Soomf",
        "0wOQAZs5pc--",
        "K5QZ13OEpz2H",
        "lQ7QKXXCp7Bj",
        "448CDAPjqfQr",
        "KSlN3yHqYklG",
        "t6dVpIINYklI",
        "ijmpgYnKYklI",
        "-JiQyfWJYklI",
        "EM7whBJCYoAo",
        "fge-S5ZAYoAp",
        "85gYPyotYoAp",
        "RoGjAbkUYoAp",
        "4Of9eVA-YrdM",
        "iky9q4vBYrdO",
        "F6T5p64dYrdO",
        "y-Ehk30pYrdP",
        "bamQiAODYuh1",
        "QHF8YVU7Yuh3",
        "GwzvFGzlYuh3",
        "qYpmQ266Yuh3",
        "OH-pJp9IphqM",
        "bbFf2-_FphqN",
        "_ouA3fa0phqN",
        "Seke61FWphqN",
        "PIIx-8_IphqN",
        "t27r6nlMphqO",
        "r2jJGEOYphqO",
        "b0JNsNcRphqO",
        "BZR9WyysphqO",
        "jj7wYXLtphqO",
        "eZrbJ2SmphqO",
        "rFu4xreNphqO",
        "YJ55k-q6phqO",
        "gCFgpxoyphqP",
        "OVtJsKN_phqQ",
        "lssrdh5qphqQ",
        "U2RJ9gkRphqQ",
        "1M8mcRywphqQ",
        "tgIPom80phqQ",
        "JMzcOPDDphqR",
        "x-EpHcCOp1ci",
        "X_VqEhTip1ck",
        "8zGJKyg5p1ck",
        "PVzmfK_Ep1ck",
        "n3dbpmDWp1ck",
        "ylSl6qgtp1ck",
        "ZWILFDl5p1ck",
        "M7G43BXep1ck",
        "Ag9LCva-p1cl",
        "E6MkPsBcp1cl",
        "2cELzS2fp1cl",
        "3MPXvC8up1cl",
        "NC_X3p0fY2L0",
        "UV0SzAkaZNRQ",
        "YPEH6qLeZNRQ",
        "q29F0dvdveiT",
        "EXh0U9oCveiU",
        "22aHeOlLveiV",
        "JcMwzZxoAimU",
        "8G2x9gOozGDZ",
        "gCX9965dhzqZ",
        "gIfDvo9L0UH2"
      ]
    },
    "kernelspec": {
      "name": "python3",
      "display_name": "Python 3"
    },
    "language_info": {
      "name": "python"
    }
  },
  "cells": [
    {
      "cell_type": "code",
      "source": [],
      "metadata": {
        "id": "I1apcow5dxii"
      },
      "execution_count": null,
      "outputs": []
    },
    {
      "cell_type": "markdown",
      "source": [
        "# **Project Name**    - Uber Supply Demand Gap Report\n",
        "\n"
      ],
      "metadata": {
        "id": "vncDsAP0Gaoa"
      }
    },
    {
      "cell_type": "markdown",
      "source": [
        "##### **Project Type**    - EDA/Regression/Classification/Unsupervised\n",
        "##### **Contribution**    - Individual\n",
        "##### **Intern Name**     - Amrita\n"
      ],
      "metadata": {
        "id": "beRrZCGUAJYm"
      }
    },
    {
      "cell_type": "markdown",
      "source": [
        "# **Project Summary -**"
      ],
      "metadata": {
        "id": "FJNUwmbgGyua"
      }
    },
    {
      "cell_type": "markdown",
      "source": [
        "The Uber Supply Demand Gap analysis explores ride request data from July 2016 to uncover patterns in customer demand and Uber’s supply limitations. This project focuses on identifying time periods and pickup locations (City or Airport) where customer requests go unfulfilled — either due to driver cancellations or unavailability of cars.\n",
        "\n",
        "The data contains over 6,700 ride requests, each with status information such as \"Trip Completed\", \"Cancelled\", and \"No Cars Available\". Additional attributes include pickup point, request timestamp, and driver ID (if assigned). To extract meaningful insights, the data was cleaned and structured to add derived features like “Request Hour” and “Time Slot” (Morning, Night, etc.).\n",
        "\n",
        "The EDA uncovers critical business issues — most notably, a large supply-demand gap during Night and Early Morning time slots, especially for Airport pickups. A deeper dive revealed that many drivers cancel rides in the Morning, while Uber often shows \"No Cars Available\" at Night. This points to a mismatch between rider demand and available driver supply during off-peak hours.\n",
        "\n",
        "A total of 20+ charts were generated using Pandas, Seaborn, and Matplotlib libraries, structured into Univariate, Bivariate, and Multivariate sections. KPIs were calculated, and a clean, interactive Excel dashboard was created.\n",
        "\n",
        "Business Recommendation: Introduce rush-hour incentives for drivers during critical hours and improve supply through Night Shift scheduling.\n",
        "\n",
        "\n",
        "\n",
        "\n"
      ],
      "metadata": {
        "id": "F6v_1wHtG2nS"
      }
    },
    {
      "cell_type": "markdown",
      "source": [
        "# **GitHub Link -**"
      ],
      "metadata": {
        "id": "w6K7xa23Elo4"
      }
    },
    {
      "cell_type": "markdown",
      "source": [
        "https://github.com/Amrita16592/Uber-Supply-Demand-gap-Internship-project_1"
      ],
      "metadata": {
        "id": "h1o69JH3Eqqn"
      }
    },
    {
      "cell_type": "markdown",
      "source": [
        "# **Problem Statement**\n"
      ],
      "metadata": {
        "id": "yQaldy8SH6Dl"
      }
    },
    {
      "cell_type": "markdown",
      "source": [
        "**Uber often fails to meet rider demand, especially in specific locations or hours of the day. Users face cancellations or no-car situations. The business must identify when and why these gaps occur and what can be done to reduce them.**"
      ],
      "metadata": {
        "id": "DpeJGUA3kjGy"
      }
    },
    {
      "cell_type": "markdown",
      "source": [
        "#### **Define Your Business Objective?**"
      ],
      "metadata": {
        "id": "PH-0ReGfmX4f"
      }
    },
    {
      "cell_type": "markdown",
      "source": [
        "To identify patterns in Uber's ride request failures by analyzing time slots, pickup points, and driver behavior — and to provide actionable recommendations to reduce unfulfilled ride requests and improve customer satisfaction."
      ],
      "metadata": {
        "id": "PhDvGCAqmjP1"
      }
    },
    {
      "cell_type": "markdown",
      "source": [
        "# **General Guidelines** : -  "
      ],
      "metadata": {
        "id": "mDgbUHAGgjLW"
      }
    },
    {
      "cell_type": "markdown",
      "source": [
        "1.   Well-structured, formatted, and commented code is required.\n",
        "2.   Exception Handling, Production Grade Code & Deployment Ready Code will be a plus. Those students will be awarded some additional credits.\n",
        "     \n",
        "     The additional credits will have advantages over other students during Star Student selection.\n",
        "       \n",
        "             [ Note: - Deployment Ready Code is defined as, the whole .ipynb notebook should be executable in one go\n",
        "                       without a single error logged. ]\n",
        "\n",
        "3.   Each and every logic should have proper comments.\n",
        "4. You may add as many number of charts you want. Make Sure for each and every chart the following format should be answered.\n",
        "        \n",
        "\n",
        "```\n",
        "# Chart visualization code\n",
        "```\n",
        "            \n",
        "\n",
        "*   Why did you pick the specific chart?\n",
        "*   What is/are the insight(s) found from the chart?\n",
        "* Will the gained insights help creating a positive business impact?\n",
        "Are there any insights that lead to negative growth? Justify with specific reason.\n",
        "\n",
        "5. You have to create at least 20 logical & meaningful charts having important insights.\n",
        "\n",
        "\n",
        "[ Hints : - Do the Vizualization in  a structured way while following \"UBM\" Rule.\n",
        "\n",
        "U - Univariate Analysis,\n",
        "\n",
        "B - Bivariate Analysis (Numerical - Categorical, Numerical - Numerical, Categorical - Categorical)\n",
        "\n",
        "M - Multivariate Analysis\n",
        " ]\n",
        "\n",
        "\n",
        "\n"
      ],
      "metadata": {
        "id": "ZrxVaUj-hHfC"
      }
    },
    {
      "cell_type": "markdown",
      "source": [
        "# ***Let's Begin !***"
      ],
      "metadata": {
        "id": "O_i_v8NEhb9l"
      }
    },
    {
      "cell_type": "markdown",
      "source": [
        "## ***1. Know Your Data***"
      ],
      "metadata": {
        "id": "HhfV-JJviCcP"
      }
    },
    {
      "cell_type": "markdown",
      "source": [
        "### Import Libraries"
      ],
      "metadata": {
        "id": "Y3lxredqlCYt"
      }
    },
    {
      "cell_type": "code",
      "source": [
        "# Import Libraries\n",
        "import pandas as pd\n",
        "import numpy as np\n",
        "import seaborn as sns\n",
        "import matplotlib.pyplot as plt\n",
        "\n",
        "%matplotlib inline\n",
        "import warnings\n",
        "warnings.filterwarnings(\"ignore\")\n"
      ],
      "metadata": {
        "id": "M8Vqi-pPk-HR"
      },
      "execution_count": null,
      "outputs": []
    },
    {
      "cell_type": "markdown",
      "source": [
        "### Dataset Loading"
      ],
      "metadata": {
        "id": "3RnN4peoiCZX"
      }
    },
    {
      "cell_type": "code",
      "source": [
        "import pandas as pd\n",
        "from google.colab import files\n",
        "\n",
        "# --- Method 1: Upload the file directly to Colab's session storage ---\n",
        "# This is often the easiest way for a single file.\n",
        "# 1. Run this cell.\n",
        "# 2. A \"Choose Files\" button will appear below the cell output.\n",
        "# 3. Click \"Choose Files\" and select your 'Uber Request Data (1).csv' file from your computer.\n",
        "# The file will be uploaded to the temporary Colab environment.\n",
        "\n",
        "uploaded = files.upload()\n",
        "\n",
        "# Get the name of the uploaded file\n",
        "# This will be 'Uber Request Data (1).csv'\n",
        "file_name = list(uploaded.keys())[0]\n",
        "print(f\"Uploaded file: {file_name}\")\n",
        "\n",
        "# Load the dataset into a Pandas DataFrame using pd.read_csv()\n",
        "try:\n",
        "    df = pd.read_csv(file_name)\n",
        "    print(\"\\nDataset loaded successfully!\")\n",
        "    print(\"First 5 rows of the DataFrame:\")\n",
        "    print(df.head())\n",
        "    print(\"\\nDataFrame Info:\")\n",
        "    df.info()\n",
        "except Exception as e:\n",
        "    print(f\"An error occurred while loading the dataset: {e}\")\n",
        "    print(\"Please ensure you uploaded the correct CSV file and it's not corrupted.\")\n"
      ],
      "metadata": {
        "id": "4CkvbW_SlZ_R"
      },
      "execution_count": null,
      "outputs": []
    },
    {
      "cell_type": "markdown",
      "source": [
        "### Dataset First View"
      ],
      "metadata": {
        "id": "x71ZqKXriCWQ"
      }
    },
    {
      "cell_type": "code",
      "source": [
        "# Display the first 5 rows\n",
        "df.head()\n"
      ],
      "metadata": {
        "id": "LWNFOSvLl09H"
      },
      "execution_count": null,
      "outputs": []
    },
    {
      "cell_type": "markdown",
      "source": [
        "### Dataset Rows & Columns count"
      ],
      "metadata": {
        "id": "7hBIi_osiCS2"
      }
    },
    {
      "cell_type": "code",
      "source": [
        "# Shape of the dataset\n",
        "print(\"Total Rows:\", df.shape[0])\n",
        "print(\"Total Columns:\", df.shape[1])\n"
      ],
      "metadata": {
        "id": "Kllu7SJgmLij"
      },
      "execution_count": null,
      "outputs": []
    },
    {
      "cell_type": "markdown",
      "source": [
        "### Dataset Information"
      ],
      "metadata": {
        "id": "JlHwYmJAmNHm"
      }
    },
    {
      "cell_type": "code",
      "source": [
        "# Dataset structure and info\n",
        "df.info()\n"
      ],
      "metadata": {
        "id": "e9hRXRi6meOf"
      },
      "execution_count": null,
      "outputs": []
    },
    {
      "cell_type": "markdown",
      "source": [
        "#### Duplicate Values"
      ],
      "metadata": {
        "id": "35m5QtbWiB9F"
      }
    },
    {
      "cell_type": "code",
      "source": [
        "# Check for duplicates\n",
        "df.duplicated().count()\n"
      ],
      "metadata": {
        "id": "1sLdpKYkmox0"
      },
      "execution_count": null,
      "outputs": []
    },
    {
      "cell_type": "markdown",
      "source": [
        "#### Missing Values/Null Values"
      ],
      "metadata": {
        "id": "PoPl-ycgm1ru"
      }
    },
    {
      "cell_type": "code",
      "source": [
        "# Check for missing values\n",
        "df.isnull().sum()\n"
      ],
      "metadata": {
        "id": "GgHWkxvamxVg"
      },
      "execution_count": null,
      "outputs": []
    },
    {
      "cell_type": "code",
      "source": [
        "# Heatmap for missing values\n",
        "plt.figure(figsize=(10, 5))\n",
        "sns.heatmap(df.isnull(), cbar=False, cmap=\"YlGnBu\", yticklabels=False)\n",
        "plt.title(\"Missing Values Heatmap\")\n",
        "plt.show()"
      ],
      "metadata": {
        "id": "3q5wnI3om9sJ"
      },
      "execution_count": null,
      "outputs": []
    },
    {
      "cell_type": "markdown",
      "source": [
        "### What did you know about your dataset?"
      ],
      "metadata": {
        "id": "H0kj-8xxnORC"
      }
    },
    {
      "cell_type": "markdown",
      "source": [
        "- Total Requests: ~6745\n",
        "- Columns include Request timestamp, Drop timestamp, Status, Pickup point, etc.\n",
        "- Missing values mainly in 'Driver id' and 'Drop timestamp'\n",
        "- Timestamps need conversion\n",
        "- Need to extract features like hour and time slots\n"
      ],
      "metadata": {
        "id": "gfoNAAC-nUe_"
      }
    },
    {
      "cell_type": "markdown",
      "source": [
        "## ***2. Understanding Your Variables***"
      ],
      "metadata": {
        "id": "nA9Y7ga8ng1Z"
      }
    },
    {
      "cell_type": "code",
      "source": [
        "df.columns\n"
      ],
      "metadata": {
        "id": "j7xfkqrt5Ag5"
      },
      "execution_count": null,
      "outputs": []
    },
    {
      "cell_type": "code",
      "source": [
        "df.describe(include=\"all\")\n"
      ],
      "metadata": {
        "id": "DnOaZdaE5Q5t"
      },
      "execution_count": null,
      "outputs": []
    },
    {
      "cell_type": "markdown",
      "source": [
        "### Variables Description"
      ],
      "metadata": {
        "id": "PBTbrJXOngz2"
      }
    },
    {
      "cell_type": "markdown",
      "source": [
        "- Request id: Unique ID of the request\n",
        "- Pickup point: Either 'Airport' or 'City'\n",
        "- Driver id: Missing if not assigned\n",
        "- Status: Ride outcome\n",
        "- Request timestamp: Time of request\n",
        "- Drop timestamp: Time of drop (if trip completed)\n"
      ],
      "metadata": {
        "id": "aJV4KIxSnxay"
      }
    },
    {
      "cell_type": "markdown",
      "source": [
        "### Check Unique Values for each variable."
      ],
      "metadata": {
        "id": "u3PMJOP6ngxN"
      }
    },
    {
      "cell_type": "code",
      "source": [
        "for col in df.columns:\n",
        "    print(f\"{col}: {df[col].nunique()} unique values\")\n"
      ],
      "metadata": {
        "id": "zms12Yq5n-jE"
      },
      "execution_count": null,
      "outputs": []
    },
    {
      "cell_type": "markdown",
      "source": [
        "## 3. ***Data Wrangling***"
      ],
      "metadata": {
        "id": "dauF4eBmngu3"
      }
    },
    {
      "cell_type": "markdown",
      "source": [
        "### Data Wrangling Code"
      ],
      "metadata": {
        "id": "bKJF3rekwFvQ"
      }
    },
    {
      "cell_type": "code",
      "source": [
        "# Convert timestamps to datetime\n",
        "def parse_datetime(x):\n",
        "    for fmt in (\"%d/%m/%Y %H:%M\", \"%d-%m-%Y %H:%M:%S\"):\n",
        "        try:\n",
        "            return pd.to_datetime(x, format=fmt)\n",
        "        except:\n",
        "            continue\n",
        "    return pd.NaT\n",
        "\n",
        "df[\"Request timestamp\"] = df[\"Request timestamp\"].apply(parse_datetime)\n",
        "df[\"Drop timestamp\"] = df[\"Drop timestamp\"].apply(parse_datetime)\n",
        "\n",
        "# Extract additional time features\n",
        "df[\"Request Hour\"] = df[\"Request timestamp\"].dt.hour\n",
        "df[\"Request Date\"] = df[\"Request timestamp\"].dt.date\n",
        "\n",
        "# Create time slots\n",
        "def get_time_slot(hour):\n",
        "    if 4 <= hour < 8:\n",
        "        return \"Early Morning\"\n",
        "    elif 8 <= hour < 12:\n",
        "        return \"Morning\"\n",
        "    elif 12 <= hour < 17:\n",
        "        return \"Afternoon\"\n",
        "    elif 17 <= hour < 21:\n",
        "        return \"Evening\"\n",
        "    elif 21 <= hour <= 23:\n",
        "        return \"Night\"\n",
        "    else:\n",
        "        return \"Late Night\"\n",
        "\n",
        "df[\"Time Slot\"] = df[\"Request Hour\"].apply(get_time_slot)\n",
        "\n",
        "# Check cleaned data\n",
        "df.head()\n"
      ],
      "metadata": {
        "id": "wk-9a2fpoLcV"
      },
      "execution_count": null,
      "outputs": []
    },
    {
      "cell_type": "markdown",
      "source": [
        "### What all manipulations have you done and insights you found?"
      ],
      "metadata": {
        "id": "MSa1f5Uengrz"
      }
    },
    {
      "cell_type": "markdown",
      "source": [
        "- Parsed timestamps properly\n",
        "- Extracted request hour and request date\n",
        "- Added Time Slot feature\n",
        "- Identified most missing values come from unassigned requests\n",
        "- Dataset ready for visualization\n"
      ],
      "metadata": {
        "id": "LbyXE7I1olp8"
      }
    },
    {
      "cell_type": "markdown",
      "source": [
        "## ***4. Data Vizualization, Storytelling & Experimenting with charts : Understand the relationships between variables***"
      ],
      "metadata": {
        "id": "GF8Ens_Soomf"
      }
    },
    {
      "cell_type": "markdown",
      "source": [
        "#### Chart - 1"
      ],
      "metadata": {
        "id": "0wOQAZs5pc--"
      }
    },
    {
      "cell_type": "code",
      "source": [
        "import matplotlib.pyplot as plt\n",
        "\n",
        "# Count each request status\n",
        "status_counts = df['Status'].value_counts()\n",
        "\n",
        "# Pie chart\n",
        "plt.figure(figsize=(6, 6))\n",
        "colors = ['#66b3ff', '#ff9999', '#99ff99']\n",
        "status_counts.plot.pie(autopct='%1.1f%%', startangle=90, colors=colors, shadow=True)\n",
        "plt.title('Distribution of Trip Status')\n",
        "plt.ylabel('')\n",
        "plt.show()\n"
      ],
      "metadata": {
        "id": "7v_ESjsspbW7"
      },
      "execution_count": null,
      "outputs": []
    },
    {
      "cell_type": "markdown",
      "source": [
        "##### 1. Why did you pick the specific chart?"
      ],
      "metadata": {
        "id": "K5QZ13OEpz2H"
      }
    },
    {
      "cell_type": "markdown",
      "source": [
        "A pie chart provides a quick overview of proportions. It clearly shows how the ride requests are distributed among Completed, Cancelled, and No Cars Available."
      ],
      "metadata": {
        "id": "XESiWehPqBRc"
      }
    },
    {
      "cell_type": "markdown",
      "source": [
        "##### 2. What is/are the insight(s) found from the chart?"
      ],
      "metadata": {
        "id": "lQ7QKXXCp7Bj"
      }
    },
    {
      "cell_type": "markdown",
      "source": [
        "\n",
        "\n",
        "*   A large portion of rides are not completed.\n",
        "*   “No Cars Available” and “Cancelled” together contribute to more than half of the requests, revealing a significant supply-demand issue.\n",
        "\n"
      ],
      "metadata": {
        "id": "C_j1G7yiqdRP"
      }
    },
    {
      "cell_type": "markdown",
      "source": [
        "##### 3. Will the gained insights help creating a positive business impact?\n",
        "Are there any insights that lead to negative growth? Justify with specific reason."
      ],
      "metadata": {
        "id": "448CDAPjqfQr"
      }
    },
    {
      "cell_type": "markdown",
      "source": [
        "Yes, the gained insights can drive a positive business impact.\n",
        "\n",
        "From the chart, we observed that:\n",
        "- **Most ride failures occur during the Evening and Morning time slots.**\n",
        "- **\"No Cars Available\" is the major issue in the Evening**, and **\"Cancelled\" rides are dominant in the Morning.**\n",
        "\n",
        "These insights help Uber:\n",
        "- **Adjust driver availability** based on time-specific demand.\n",
        "- Introduce **driver incentives during high-cancellation windows**.\n",
        "- Improve **supply forecasting models** for peak hours.\n",
        "\n",
        "On the negative side, these gaps indicate:\n",
        "- Poor customer experience in critical time slots.\n",
        "- Potential **loss of revenue** and **brand trust**, especially when customers can't find a ride during busy times.\n",
        "\n",
        "Therefore, acting on these insights is critical to **reduce negative growth** and improve operational efficiency.\n"
      ],
      "metadata": {
        "id": "3cspy4FjqxJW"
      }
    },
    {
      "cell_type": "markdown",
      "source": [
        "#### Chart - 2"
      ],
      "metadata": {
        "id": "KSlN3yHqYklG"
      }
    },
    {
      "cell_type": "code",
      "source": [
        "import pandas as pd\n",
        "import matplotlib.pyplot as plt\n",
        "\n",
        "# Group data by Time Slot and Status\n",
        "time_status = df.groupby(['Time Slot', 'Status']).size().unstack()\n",
        "\n",
        "# Plot stacked bar chart\n",
        "time_status.plot(kind='bar', stacked=True, figsize=(10, 6), colormap='Set2')\n",
        "plt.title('Trip Request Status by Time Slot')\n",
        "plt.xlabel('Time Slot')\n",
        "plt.ylabel('Number of Requests')\n",
        "plt.xticks(rotation=45)\n",
        "plt.legend(title='Status')\n",
        "plt.grid(axis='y')\n",
        "plt.tight_layout()\n",
        "plt.show()\n"
      ],
      "metadata": {
        "id": "R4YgtaqtYklH"
      },
      "execution_count": null,
      "outputs": []
    },
    {
      "cell_type": "markdown",
      "source": [
        "##### 1. Why did you pick the specific chart?"
      ],
      "metadata": {
        "id": "t6dVpIINYklI"
      }
    },
    {
      "cell_type": "markdown",
      "source": [
        "A stacked bar chart shows how each status contributes within every time slot, allowing us to compare both absolute volume and category distribution."
      ],
      "metadata": {
        "id": "5aaW0BYyYklI"
      }
    },
    {
      "cell_type": "markdown",
      "source": [
        "##### 2. What is/are the insight(s) found from the chart?"
      ],
      "metadata": {
        "id": "ijmpgYnKYklI"
      }
    },
    {
      "cell_type": "markdown",
      "source": [
        "\n",
        "\n",
        "*   Morning and Evening time slots have the highest number of requests.\n",
        "*   The “No Cars Available” issue peaks in the Evening.\n",
        "\n",
        "\n",
        "*  Cancellations are common in the Morning, especially from the City side.\n",
        "\n",
        "\n",
        "\n",
        "\n"
      ],
      "metadata": {
        "id": "PSx9atu2YklI"
      }
    },
    {
      "cell_type": "markdown",
      "source": [
        "##### 3. Will the gained insights help creating a positive business impact?\n",
        "Are there any insights that lead to negative growth? Justify with specific reason."
      ],
      "metadata": {
        "id": "-JiQyfWJYklI"
      }
    },
    {
      "cell_type": "markdown",
      "source": [
        "Yes. These patterns help Uber optimize driver allocation:\n",
        "\n",
        "\n",
        "\n",
        "*   More drivers in evenings near Airport\n",
        "*   Targeted incentives in mornings in the City\n",
        "\n",
        "\n",
        "\n",
        "\n",
        "\n",
        "This can reduce failed rides and improve customer satisfaction."
      ],
      "metadata": {
        "id": "BcBbebzrYklV"
      }
    },
    {
      "cell_type": "markdown",
      "source": [
        "#### Chart - 3"
      ],
      "metadata": {
        "id": "EM7whBJCYoAo"
      }
    },
    {
      "cell_type": "code",
      "source": [
        "import seaborn as sns\n",
        "import matplotlib.pyplot as plt\n",
        "\n",
        "plt.figure(figsize=(7, 5))\n",
        "sns.countplot(data=df, x='Pickup point', hue='Status', palette='Set2')\n",
        "plt.title('Trip Status by Pickup Point')\n",
        "plt.xlabel('Pickup Point')\n",
        "plt.ylabel('Number of Requests')\n",
        "plt.legend(title='Status')\n",
        "plt.grid(axis='y', linestyle='--', alpha=0.7)\n",
        "plt.tight_layout()\n",
        "plt.show()\n"
      ],
      "metadata": {
        "id": "t6GMdE67YoAp"
      },
      "execution_count": null,
      "outputs": []
    },
    {
      "cell_type": "markdown",
      "source": [
        "##### 1. Why did you pick the specific chart?"
      ],
      "metadata": {
        "id": "fge-S5ZAYoAp"
      }
    },
    {
      "cell_type": "markdown",
      "source": [
        "\n",
        "\n",
        "\n",
        "\n",
        "\n",
        "\n",
        "A grouped bar chart is ideal to compare how trip statuses vary based on location — here, City vs Airport.\n",
        "It helps in understanding which location struggles more with cancellations or availability.\n",
        "\n"
      ],
      "metadata": {
        "id": "5dBItgRVYoAp"
      }
    },
    {
      "cell_type": "markdown",
      "source": [
        "##### 2. What is/are the insight(s) found from the chart?"
      ],
      "metadata": {
        "id": "85gYPyotYoAp"
      }
    },
    {
      "cell_type": "markdown",
      "source": [
        "\n",
        "\n",
        "*   \"No Cars Available\" is dominant for Airport pickups, especially in the Evening.\n",
        "*  \"Cancelled\" trips are significantly higher in the City, especially during the Morning.\n",
        "\n",
        "*  Completed trips are fewer compared to the total demand at both locations.\n",
        "\n",
        "\n",
        "\n",
        "\n"
      ],
      "metadata": {
        "id": "4jstXR6OYoAp"
      }
    },
    {
      "cell_type": "markdown",
      "source": [
        "##### 3. Will the gained insights help creating a positive business impact?\n",
        "Are there any insights that lead to negative growth? Justify with specific reason."
      ],
      "metadata": {
        "id": "RoGjAbkUYoAp"
      }
    },
    {
      "cell_type": "markdown",
      "source": [
        "Yes. These insights help Uber:\n",
        "\n",
        "\n",
        "*   Balance driver distribution between City and Airport.\n",
        "*  Incentivize drivers to avoid cancellations in the City, especially in the Morning.\n",
        "\n",
        "*  Add predictive load-balancing logic in their app to reduce peak-time rejections.\n",
        "\n",
        "Negative Impact Insight:\n",
        "\n",
        "\n",
        "*   High failure rates at the Airport during peak hours can lead to customer churn from business travelers — a valuable customer segment.\n",
        "\n",
        "\n",
        "\n",
        "\n",
        "\n",
        "\n",
        "\n"
      ],
      "metadata": {
        "id": "zfJ8IqMcYoAp"
      }
    },
    {
      "cell_type": "markdown",
      "source": [
        "#### Chart - 4"
      ],
      "metadata": {
        "id": "4Of9eVA-YrdM"
      }
    },
    {
      "cell_type": "code",
      "source": [
        "import matplotlib.pyplot as plt\n",
        "\n",
        "# Group by hour and status\n",
        "hourly_status = df.groupby(['Request Hour', 'Status']).size().unstack()\n",
        "\n",
        "# Line plot\n",
        "plt.figure(figsize=(10, 6))\n",
        "hourly_status.plot(kind='line', marker='o', figsize=(10, 6), colormap='Dark2')\n",
        "plt.title('Hourly Request Status Trends')\n",
        "plt.xlabel('Hour of Day')\n",
        "plt.ylabel('Number of Requests')\n",
        "plt.xticks(range(0, 24))\n",
        "plt.grid(True, linestyle='--', alpha=0.5)\n",
        "plt.legend(title='Status')\n",
        "plt.tight_layout()\n",
        "plt.show()\n"
      ],
      "metadata": {
        "id": "irlUoxc8YrdO"
      },
      "execution_count": null,
      "outputs": []
    },
    {
      "cell_type": "markdown",
      "source": [
        "##### 1. Why did you pick the specific chart?"
      ],
      "metadata": {
        "id": "iky9q4vBYrdO"
      }
    },
    {
      "cell_type": "markdown",
      "source": [
        "A line plot helps in visualizing the trend of requests and failures over time (hourly). It's ideal for detecting time-based peaks and performance issues.\n",
        "\n"
      ],
      "metadata": {
        "id": "aJRCwT6DYrdO"
      }
    },
    {
      "cell_type": "markdown",
      "source": [
        "##### 2. What is/are the insight(s) found from the chart?"
      ],
      "metadata": {
        "id": "F6T5p64dYrdO"
      }
    },
    {
      "cell_type": "markdown",
      "source": [
        "\n",
        "\n",
        "*   Requests peak around 8 AM and 5-6 PM (Morning & Evening rush hours.\n",
        "\n",
        "*   Cancellations spike around 8-9 AM, showing driver-side issues in the morning.\n",
        "*   No Cars Available sharply increases after 5 PM, especially during Airport pickups.\n",
        "\n",
        "\n",
        "\n",
        "\n",
        "\n",
        "\n",
        "\n",
        "\n"
      ],
      "metadata": {
        "id": "Xx8WAJvtYrdO"
      }
    },
    {
      "cell_type": "markdown",
      "source": [
        "##### 3. Will the gained insights help creating a positive business impact?\n",
        "Are there any insights that lead to negative growth? Justify with specific reason."
      ],
      "metadata": {
        "id": "y-Ehk30pYrdP"
      }
    },
    {
      "cell_type": "markdown",
      "source": [
        "Yes. These insights are critical for time-based driver supply planning:\n",
        "\n",
        "\n",
        "*   Add more drivers in the evening at the Airport\n",
        "*   Prevent cancellations in the morning from the City\n",
        "\n",
        "Not addressing these time-slot failures can lead to repeated user dissatisfaction, especially for commuters, leading to brand damage and reduced app usage.\n",
        "\n",
        "\n",
        "\n"
      ],
      "metadata": {
        "id": "jLNxxz7MYrdP"
      }
    },
    {
      "cell_type": "markdown",
      "source": [
        "#### Chart - 5"
      ],
      "metadata": {
        "id": "bamQiAODYuh1"
      }
    },
    {
      "cell_type": "code",
      "source": [
        "import seaborn as sns\n",
        "import matplotlib.pyplot as plt\n",
        "\n",
        "heatmap_data = df.groupby(['Time Slot', 'Pickup point']).size().unstack()\n",
        "\n",
        "plt.figure(figsize=(8, 5))\n",
        "sns.heatmap(heatmap_data, annot=True, fmt='d', cmap='YlGnBu')\n",
        "plt.title('Heatmap of Requests by Time Slot and Pickup Point')\n",
        "plt.xlabel('Pickup Point')\n",
        "plt.ylabel('Time Slot')\n",
        "plt.show()\n"
      ],
      "metadata": {
        "id": "TIJwrbroYuh3"
      },
      "execution_count": null,
      "outputs": []
    },
    {
      "cell_type": "markdown",
      "source": [
        "##### 1. Why did you pick the specific chart?"
      ],
      "metadata": {
        "id": "QHF8YVU7Yuh3"
      }
    },
    {
      "cell_type": "markdown",
      "source": [
        "\n",
        "\n",
        "\n",
        "\n",
        "\n",
        "\n",
        "A heatmap is great to show concentrations across two categories — here, time and pickup location."
      ],
      "metadata": {
        "id": "dcxuIMRPYuh3"
      }
    },
    {
      "cell_type": "markdown",
      "source": [
        "##### 2. What is/are the insight(s) found from the chart?"
      ],
      "metadata": {
        "id": "GwzvFGzlYuh3"
      }
    },
    {
      "cell_type": "markdown",
      "source": [
        "\n",
        "\n",
        "*   Morning has the highest load from the City.\n",
        "*   Evening load is more from the Airport.\n",
        "\n",
        "\n",
        "\n",
        "\n",
        "\n",
        "\n"
      ],
      "metadata": {
        "id": "uyqkiB8YYuh3"
      }
    },
    {
      "cell_type": "markdown",
      "source": [
        "##### 3. Will the gained insights help creating a positive business impact?\n",
        "Are there any insights that lead to negative growth? Justify with specific reason."
      ],
      "metadata": {
        "id": "qYpmQ266Yuh3"
      }
    },
    {
      "cell_type": "markdown",
      "source": [
        "Uber can adjust operations based on when and where demand surges, avoiding under-serviced regions and peak-hour failures."
      ],
      "metadata": {
        "id": "_WtzZ_hCYuh4"
      }
    },
    {
      "cell_type": "markdown",
      "source": [
        "#### Chart - 6"
      ],
      "metadata": {
        "id": "OH-pJp9IphqM"
      }
    },
    {
      "cell_type": "code",
      "source": [
        "failed = df[df['Status'] != 'Trip Completed']\n",
        "failed['Driver id'].value_counts().head(10).plot(kind='bar', figsize=(8, 4), color='tomato')\n",
        "plt.title('Top Drivers with Most Failed Requests')\n",
        "plt.xlabel('Driver ID')\n",
        "plt.ylabel('Number of Failed Trips')\n",
        "plt.grid(axis='y')\n",
        "plt.tight_layout()\n",
        "plt.show()\n"
      ],
      "metadata": {
        "id": "kuRf4wtuphqN"
      },
      "execution_count": null,
      "outputs": []
    },
    {
      "cell_type": "markdown",
      "source": [
        "##### 1. Why did you pick the specific chart?"
      ],
      "metadata": {
        "id": "bbFf2-_FphqN"
      }
    },
    {
      "cell_type": "markdown",
      "source": [
        "**Bar charts are best to show top contributors to a problem.**"
      ],
      "metadata": {
        "id": "loh7H2nzphqN"
      }
    },
    {
      "cell_type": "markdown",
      "source": [
        "##### 2. What is/are the insight(s) found from the chart?"
      ],
      "metadata": {
        "id": "_ouA3fa0phqN"
      }
    },
    {
      "cell_type": "markdown",
      "source": [
        "**Some drivers are repeatedly associated with failed rides (cancel/no response).**"
      ],
      "metadata": {
        "id": "VECbqPI7phqN"
      }
    },
    {
      "cell_type": "markdown",
      "source": [
        "##### 3. Will the gained insights help creating a positive business impact?\n",
        "Are there any insights that lead to negative growth? Justify with specific reason."
      ],
      "metadata": {
        "id": "Seke61FWphqN"
      }
    },
    {
      "cell_type": "markdown",
      "source": [
        "**Uber may train, warn, or suspend such drivers to improve success rates and maintain service standards.**"
      ],
      "metadata": {
        "id": "DW4_bGpfphqN"
      }
    },
    {
      "cell_type": "markdown",
      "source": [
        "#### Chart - 7"
      ],
      "metadata": {
        "id": "PIIx-8_IphqN"
      }
    },
    {
      "cell_type": "code",
      "source": [
        "sns.countplot(data=df, x='Request Hour', color='skyblue')\n",
        "plt.title('Trip Request Count per Hour')\n",
        "plt.xlabel('Hour of Day')\n",
        "plt.ylabel('Number of Requests')\n",
        "plt.grid(axis='y', linestyle='--', alpha=0.5)\n",
        "plt.tight_layout()\n",
        "plt.show()\n"
      ],
      "metadata": {
        "id": "lqAIGUfyphqO"
      },
      "execution_count": null,
      "outputs": []
    },
    {
      "cell_type": "markdown",
      "source": [
        "##### 1. Why did you pick the specific chart?"
      ],
      "metadata": {
        "id": "t27r6nlMphqO"
      }
    },
    {
      "cell_type": "markdown",
      "source": [
        "To identify when people request rides the most, allowing better scheduling of supply."
      ],
      "metadata": {
        "id": "iv6ro40sphqO"
      }
    },
    {
      "cell_type": "markdown",
      "source": [
        "##### 2. What is/are the insight(s) found from the chart?"
      ],
      "metadata": {
        "id": "r2jJGEOYphqO"
      }
    },
    {
      "cell_type": "markdown",
      "source": [
        "Most requests are between 7–10 AM and 5–8 PM — peak travel times."
      ],
      "metadata": {
        "id": "Po6ZPi4hphqO"
      }
    },
    {
      "cell_type": "markdown",
      "source": [
        "##### 3. Will the gained insights help creating a positive business impact?\n",
        "Are there any insights that lead to negative growth? Justify with specific reason."
      ],
      "metadata": {
        "id": "b0JNsNcRphqO"
      }
    },
    {
      "cell_type": "markdown",
      "source": [
        "Use this to adjust driver shift patterns, reduce wait time, and prevent ride failures in high-demand slots."
      ],
      "metadata": {
        "id": "xvSq8iUTphqO"
      }
    },
    {
      "cell_type": "markdown",
      "source": [
        "#### Chart - 8"
      ],
      "metadata": {
        "id": "BZR9WyysphqO"
      }
    },
    {
      "cell_type": "code",
      "source": [
        "completion = df[df['Status'] == 'Trip Completed']\n",
        "completion['Time Slot'].value_counts().plot(kind='bar', color='limegreen')\n",
        "plt.title('Trip Completions per Time Slot')\n",
        "plt.ylabel('Completed Trips')\n",
        "plt.xlabel('Time Slot')\n",
        "plt.grid(axis='y')\n",
        "plt.tight_layout()\n",
        "plt.show()\n"
      ],
      "metadata": {
        "id": "TdPTWpAVphqO"
      },
      "execution_count": null,
      "outputs": []
    },
    {
      "cell_type": "markdown",
      "source": [
        "##### 1. Why did you pick the specific chart?"
      ],
      "metadata": {
        "id": "jj7wYXLtphqO"
      }
    },
    {
      "cell_type": "markdown",
      "source": [
        "Shows when trips are successfully completed, helping locate best-performing time"
      ],
      "metadata": {
        "id": "Ob8u6rCTphqO"
      }
    },
    {
      "cell_type": "markdown",
      "source": [
        "##### 2. What is/are the insight(s) found from the chart?"
      ],
      "metadata": {
        "id": "eZrbJ2SmphqO"
      }
    },
    {
      "cell_type": "markdown",
      "source": [
        "Midday hours see a higher completion rate, while morning and evening hours struggle."
      ],
      "metadata": {
        "id": "mZtgC_hjphqO"
      }
    },
    {
      "cell_type": "markdown",
      "source": [
        "##### 3. Will the gained insights help creating a positive business impact?\n",
        "Are there any insights that lead to negative growth? Justify with specific reason."
      ],
      "metadata": {
        "id": "rFu4xreNphqO"
      }
    },
    {
      "cell_type": "markdown",
      "source": [
        "Uber can offer discounts in midday slots and improve logistics for peak slots to balance demand."
      ],
      "metadata": {
        "id": "ey_0qi68phqO"
      }
    },
    {
      "cell_type": "markdown",
      "source": [
        "#### Chart - 9"
      ],
      "metadata": {
        "id": "YJ55k-q6phqO"
      }
    },
    {
      "cell_type": "code",
      "source": [
        "cancel = df[df['Status'] == 'Cancelled']\n",
        "cancel['Time Slot'].value_counts().plot(kind='bar', color='orange')\n",
        "plt.title('Cancellations per Time Slot')\n",
        "plt.ylabel('Cancelled Trips')\n",
        "plt.xlabel('Time Slot')\n",
        "plt.grid(axis='y')\n",
        "plt.tight_layout()\n",
        "plt.show()\n"
      ],
      "metadata": {
        "id": "B2aS4O1ophqO"
      },
      "execution_count": null,
      "outputs": []
    },
    {
      "cell_type": "markdown",
      "source": [
        "##### 1. Why did you pick the specific chart?"
      ],
      "metadata": {
        "id": "gCFgpxoyphqP"
      }
    },
    {
      "cell_type": "markdown",
      "source": [
        "To find when cancellations happen most, helping analyze driver reliability and user satisfaction."
      ],
      "metadata": {
        "id": "TVxDimi2phqP"
      }
    },
    {
      "cell_type": "markdown",
      "source": [
        "##### 2. What is/are the insight(s) found from the chart?"
      ],
      "metadata": {
        "id": "OVtJsKN_phqQ"
      }
    },
    {
      "cell_type": "markdown",
      "source": [
        "Morning cancellations are very high, mostly due to driver non-acceptance."
      ],
      "metadata": {
        "id": "ngGi97qjphqQ"
      }
    },
    {
      "cell_type": "markdown",
      "source": [
        "##### 3. Will the gained insights help creating a positive business impact?\n",
        "Are there any insights that lead to negative growth? Justify with specific reason."
      ],
      "metadata": {
        "id": "lssrdh5qphqQ"
      }
    },
    {
      "cell_type": "markdown",
      "source": [
        "Uber can incentivize morning shifts or auto-penalize last-minute cancellations, improving ride success rate."
      ],
      "metadata": {
        "id": "tBpY5ekJphqQ"
      }
    },
    {
      "cell_type": "markdown",
      "source": [
        "#### Chart - 10"
      ],
      "metadata": {
        "id": "U2RJ9gkRphqQ"
      }
    },
    {
      "cell_type": "code",
      "source": [
        "nocars = df[df['Status'] == 'No Cars Available']\n",
        "nocars['Time Slot'].value_counts().plot(kind='bar', color='red')\n",
        "plt.title('No Cars Available per Time Slot')\n",
        "plt.ylabel('Requests Unfulfilled')\n",
        "plt.xlabel('Time Slot')\n",
        "plt.grid(axis='y')\n",
        "plt.tight_layout()\n",
        "plt.show()\n"
      ],
      "metadata": {
        "id": "GM7a4YP4phqQ"
      },
      "execution_count": null,
      "outputs": []
    },
    {
      "cell_type": "markdown",
      "source": [
        "##### 1. Why did you pick the specific chart?"
      ],
      "metadata": {
        "id": "1M8mcRywphqQ"
      }
    },
    {
      "cell_type": "markdown",
      "source": [
        "\n",
        "To detect peak failure times due to no supply.\n",
        "\n",
        "\n",
        "\n",
        "\n"
      ],
      "metadata": {
        "id": "8agQvks0phqQ"
      }
    },
    {
      "cell_type": "markdown",
      "source": [
        "##### 2. What is/are the insight(s) found from the chart?"
      ],
      "metadata": {
        "id": "tgIPom80phqQ"
      }
    },
    {
      "cell_type": "markdown",
      "source": [
        "Evening rides, especially from the Airport, have no available drivers."
      ],
      "metadata": {
        "id": "Qp13pnNzphqQ"
      }
    },
    {
      "cell_type": "markdown",
      "source": [
        "##### 3. Will the gained insights help creating a positive business impact?\n",
        "Are there any insights that lead to negative growth? Justify with specific reason."
      ],
      "metadata": {
        "id": "JMzcOPDDphqR"
      }
    },
    {
      "cell_type": "markdown",
      "source": [
        "Uber should ensure driver shift rotation and airport coverage in the evening to match supply with demand."
      ],
      "metadata": {
        "id": "R4Ka1PC2phqR"
      }
    },
    {
      "cell_type": "markdown",
      "source": [
        "#### Chart - 11"
      ],
      "metadata": {
        "id": "x-EpHcCOp1ci"
      }
    },
    {
      "cell_type": "code",
      "source": [
        "completed = df[df['Status'] == 'Trip Completed']\n",
        "sns.countplot(data=completed, x='Pickup point', palette='coolwarm')\n",
        "plt.title('Completed Trips by Pickup Point')\n",
        "plt.grid(axis='y')\n",
        "plt.tight_layout()\n",
        "plt.show()\n"
      ],
      "metadata": {
        "id": "mAQTIvtqp1cj"
      },
      "execution_count": null,
      "outputs": []
    },
    {
      "cell_type": "markdown",
      "source": [
        "##### 1. Why did you pick the specific chart?"
      ],
      "metadata": {
        "id": "X_VqEhTip1ck"
      }
    },
    {
      "cell_type": "markdown",
      "source": [
        "To measure which pickup location sees more successful rides."
      ],
      "metadata": {
        "id": "-vsMzt_np1ck"
      }
    },
    {
      "cell_type": "markdown",
      "source": [
        "##### 2. What is/are the insight(s) found from the chart?"
      ],
      "metadata": {
        "id": "8zGJKyg5p1ck"
      }
    },
    {
      "cell_type": "markdown",
      "source": [
        "City has slightly higher completion rates than Airport."
      ],
      "metadata": {
        "id": "ZYdMsrqVp1ck"
      }
    },
    {
      "cell_type": "markdown",
      "source": [
        "##### 3. Will the gained insights help creating a positive business impact?\n",
        "Are there any insights that lead to negative growth? Justify with specific reason."
      ],
      "metadata": {
        "id": "PVzmfK_Ep1ck"
      }
    },
    {
      "cell_type": "markdown",
      "source": [
        "This allows Uber to set location-specific KPIs and allocate resources based on past outcomes."
      ],
      "metadata": {
        "id": "druuKYZpp1ck"
      }
    },
    {
      "cell_type": "markdown",
      "source": [
        "#### Chart - 12"
      ],
      "metadata": {
        "id": "n3dbpmDWp1ck"
      }
    },
    {
      "cell_type": "code",
      "source": [
        "df['Status'].value_counts().plot(kind='bar', color=['limegreen', 'orange', 'red'])\n",
        "plt.title('Overall Status Distribution')\n",
        "plt.ylabel('Number of Trips')\n",
        "plt.grid(axis='y')\n",
        "plt.tight_layout()\n",
        "plt.show()\n"
      ],
      "metadata": {
        "id": "bwevp1tKp1ck"
      },
      "execution_count": null,
      "outputs": []
    },
    {
      "cell_type": "markdown",
      "source": [
        "##### 1. Why did you pick the specific chart?"
      ],
      "metadata": {
        "id": "ylSl6qgtp1ck"
      }
    },
    {
      "cell_type": "markdown",
      "source": [
        "\n",
        "\n",
        "A simple bar plot to show success vs failure rate.\n",
        "\n",
        "\n",
        "\n"
      ],
      "metadata": {
        "id": "m2xqNkiQp1ck"
      }
    },
    {
      "cell_type": "markdown",
      "source": [
        "##### 2. What is/are the insight(s) found from the chart?"
      ],
      "metadata": {
        "id": "ZWILFDl5p1ck"
      }
    },
    {
      "cell_type": "markdown",
      "source": [
        "More than 60% of requests are unsuccessful."
      ],
      "metadata": {
        "id": "x-lUsV2mp1ck"
      }
    },
    {
      "cell_type": "markdown",
      "source": [
        "##### 3. Will the gained insights help creating a positive business impact?\n",
        "Are there any insights that lead to negative growth? Justify with specific reason."
      ],
      "metadata": {
        "id": "M7G43BXep1ck"
      }
    },
    {
      "cell_type": "markdown",
      "source": [
        "This insight is alarming and justifies urgent attention from ops and driver management teams to improve efficiency."
      ],
      "metadata": {
        "id": "5wwDJXsLp1cl"
      }
    },
    {
      "cell_type": "markdown",
      "source": [
        "#### Chart - 13"
      ],
      "metadata": {
        "id": "Ag9LCva-p1cl"
      }
    },
    {
      "cell_type": "code",
      "source": [
        "# Convert timestamps to datetime and extract Request Hour\n",
        "def parse_datetime(x):\n",
        "    for fmt in (\"%d/%m/%Y %H:%M\", \"%d-%m-%Y %H:%M:%S\"):\n",
        "        try:\n",
        "            return pd.to_datetime(x, format=fmt)\n",
        "        except:\n",
        "            continue\n",
        "    return pd.NaT\n",
        "\n",
        "df[\"Request timestamp\"] = df[\"Request timestamp\"].apply(parse_datetime)\n",
        "df[\"Request Hour\"] = df[\"Request timestamp\"].dt.hour\n",
        "\n",
        "df.groupby('Request Hour').size().rolling(2).mean().plot(kind='line', figsize=(8,5), color='blue')\n",
        "plt.title('Rolling Average Hourly Demand')\n",
        "plt.xlabel('Hour')\n",
        "plt.ylabel('Avg Requests')\n",
        "plt.grid()\n",
        "plt.tight_layout()\n",
        "plt.show()"
      ],
      "metadata": {
        "id": "EUfxeq9-p1cl"
      },
      "execution_count": null,
      "outputs": []
    },
    {
      "cell_type": "markdown",
      "source": [
        "##### 1. Why did you pick the specific chart?"
      ],
      "metadata": {
        "id": "E6MkPsBcp1cl"
      }
    },
    {
      "cell_type": "markdown",
      "source": [
        "Rolling averages smoothen demand trends, eliminating noise."
      ],
      "metadata": {
        "id": "V22bRsFWp1cl"
      }
    },
    {
      "cell_type": "markdown",
      "source": [
        "##### 2. What is/are the insight(s) found from the chart?"
      ],
      "metadata": {
        "id": "2cELzS2fp1cl"
      }
    },
    {
      "cell_type": "markdown",
      "source": [
        "Demand steadily climbs in the morning and again in the evening."
      ],
      "metadata": {
        "id": "ozQPc2_Ip1cl"
      }
    },
    {
      "cell_type": "markdown",
      "source": [
        "##### 3. Will the gained insights help creating a positive business impact?\n",
        "Are there any insights that lead to negative growth? Justify with specific reason."
      ],
      "metadata": {
        "id": "3MPXvC8up1cl"
      }
    },
    {
      "cell_type": "markdown",
      "source": [
        "\n",
        "\n",
        "Can guide smart pricing or promos, and help optimize driver shift start times.\n",
        "\n",
        "\n",
        "\n"
      ],
      "metadata": {
        "id": "GL8l1tdLp1cl"
      }
    },
    {
      "cell_type": "markdown",
      "source": [
        "#### Chart - 14 - Correlation Heatmap"
      ],
      "metadata": {
        "id": "NC_X3p0fY2L0"
      }
    },
    {
      "cell_type": "code",
      "source": [
        "sns.heatmap(df.corr(numeric_only=True), annot=True, cmap='coolwarm')\n",
        "plt.title(\"Correlation Heatmap\")\n",
        "plt.show()\n"
      ],
      "metadata": {
        "id": "xyC9zolEZNRQ"
      },
      "execution_count": null,
      "outputs": []
    },
    {
      "cell_type": "markdown",
      "source": [
        "##### 1. Why did you pick the specific chart?"
      ],
      "metadata": {
        "id": "UV0SzAkaZNRQ"
      }
    },
    {
      "cell_type": "markdown",
      "source": [
        "To find out if any numeric variables are strongly correlated (e.g., hour and failure rate."
      ],
      "metadata": {
        "id": "DVPuT8LYZNRQ"
      }
    },
    {
      "cell_type": "markdown",
      "source": [
        "##### 2. What is/are the insight(s) found from the chart?"
      ],
      "metadata": {
        "id": "YPEH6qLeZNRQ"
      }
    },
    {
      "cell_type": "markdown",
      "source": [
        "No strong linear correlations exist — categorical and temporal features dominate."
      ],
      "metadata": {
        "id": "bfSqtnDqZNRR"
      }
    },
    {
      "cell_type": "markdown",
      "source": [
        "#### Chart - 15 - Pair Plot"
      ],
      "metadata": {
        "id": "q29F0dvdveiT"
      }
    },
    {
      "cell_type": "code",
      "source": [
        "import seaborn as sns\n",
        "\n",
        "sns.pairplot(df[['Request Hour', 'Driver id']], kind='scatter', diag_kind='hist')\n",
        "plt.suptitle('Pair Plot - Numeric Variables', y=1.02)\n",
        "plt.show()\n"
      ],
      "metadata": {
        "id": "o58-TEIhveiU"
      },
      "execution_count": null,
      "outputs": []
    },
    {
      "cell_type": "markdown",
      "source": [
        "##### 1. Why did you pick the specific chart?"
      ],
      "metadata": {
        "id": "EXh0U9oCveiU"
      }
    },
    {
      "cell_type": "markdown",
      "source": [
        "To observe numeric variable relationships visually."
      ],
      "metadata": {
        "id": "eMmPjTByveiU"
      }
    },
    {
      "cell_type": "markdown",
      "source": [
        "##### 2. What is/are the insight(s) found from the chart?"
      ],
      "metadata": {
        "id": "22aHeOlLveiV"
      }
    },
    {
      "cell_type": "markdown",
      "source": [
        "\n",
        "\n",
        "\n",
        "\n",
        "\n",
        "\n",
        "Driver IDs are spread evenly. Request Hour has some trend patterns."
      ],
      "metadata": {
        "id": "uPQ8RGwHveiV"
      }
    },
    {
      "cell_type": "markdown",
      "source": [
        "#### Chart - 16"
      ],
      "metadata": {
        "id": "EFTSOACpeOuV"
      }
    },
    {
      "cell_type": "code",
      "source": [
        "failures = df[df['Status'] != 'Trip Completed']\n",
        "\n",
        "# Calculate failure ratio per hour\n",
        "failure_ratio = failures.groupby(df['Request Hour']).size() / df.groupby(df['Request Hour']).size()\n",
        "\n",
        "# Plot\n",
        "failure_ratio.plot(kind='bar', color='crimson', figsize=(8,5))\n",
        "plt.title('Failed Trip Ratio by Hour')\n",
        "plt.xlabel('Hour of Day')\n",
        "plt.ylabel('Failure Ratio')\n",
        "plt.grid()\n",
        "plt.tight_layout()\n",
        "plt.show()"
      ],
      "metadata": {
        "id": "ncgd8qlXefWr"
      },
      "execution_count": null,
      "outputs": []
    },
    {
      "cell_type": "markdown",
      "source": [
        "1. Why did you pick the specific chart?"
      ],
      "metadata": {
        "id": "9ymuwu46iy4c"
      }
    },
    {
      "cell_type": "markdown",
      "source": [
        "To quantify failure rates across the day and help predict worst-performing hours."
      ],
      "metadata": {
        "id": "SonTyi3yk6R3"
      }
    },
    {
      "cell_type": "markdown",
      "source": [
        "##### 2. What is/are the insight(s) found from the chart?"
      ],
      "metadata": {
        "id": "IZMHkbewjRrm"
      }
    },
    {
      "cell_type": "markdown",
      "source": [
        "Failure rate spikes in the evening and morning rush hours."
      ],
      "metadata": {
        "id": "D4qtIl1ckQmB"
      }
    },
    {
      "cell_type": "markdown",
      "source": [
        "#### Chart - 17"
      ],
      "metadata": {
        "id": "rilEPjL8klWn"
      }
    },
    {
      "cell_type": "code",
      "source": [
        "import seaborn as sns\n",
        "\n",
        "heat_data = pd.crosstab(df['Request Hour'], df['Pickup point'])\n",
        "plt.figure(figsize=(10,6))\n",
        "sns.heatmap(heat_data, annot=True, cmap='YlGnBu')\n",
        "plt.title('Pickup Point vs Hour-wise Demand')\n",
        "plt.xlabel('Pickup Point')\n",
        "plt.ylabel('Hour of Day')\n",
        "plt.show()\n"
      ],
      "metadata": {
        "id": "et9g54XUkmv4"
      },
      "execution_count": null,
      "outputs": []
    },
    {
      "cell_type": "markdown",
      "source": [
        "1. Why did you pick the specific chart?"
      ],
      "metadata": {
        "id": "AJx8xUnjlAyW"
      }
    },
    {
      "cell_type": "markdown",
      "source": [
        "Heatmaps show which hour and location has the most requests visually and quickly."
      ],
      "metadata": {
        "id": "NjAgjuCGlFVe"
      }
    },
    {
      "cell_type": "markdown",
      "source": [
        "2. What is/are the insight(s) found from the chart?"
      ],
      "metadata": {
        "id": "2D78vHbalI-s"
      }
    },
    {
      "cell_type": "markdown",
      "source": [
        "City dominates morning hours, while Airport dominates evening hours.\n",
        "\n"
      ],
      "metadata": {
        "id": "Gp6I4z8MlMn1"
      }
    },
    {
      "cell_type": "markdown",
      "source": [
        "#### Chart - 18"
      ],
      "metadata": {
        "id": "Xofb29yClTUF"
      }
    },
    {
      "cell_type": "code",
      "source": [
        "status_by_pickup = pd.crosstab(df['Pickup point'], df['Status'])\n",
        "status_by_pickup.plot(kind='bar', stacked=True, colormap='viridis', figsize=(8,5))\n",
        "plt.title('Pickup Point vs Trip Status')\n",
        "plt.ylabel('Number of Requests')\n",
        "plt.grid(axis='y')\n",
        "plt.show()\n"
      ],
      "metadata": {
        "id": "r2McTRiQlVQ6"
      },
      "execution_count": null,
      "outputs": []
    },
    {
      "cell_type": "markdown",
      "source": [
        "1. Why did you pick the specific chart?"
      ],
      "metadata": {
        "id": "Hw1er2CQlcaX"
      }
    },
    {
      "cell_type": "markdown",
      "source": [
        "Stacked bars help compare trip outcomes across multiple categories — City and Airport."
      ],
      "metadata": {
        "id": "fSzM5RKBldWV"
      }
    },
    {
      "cell_type": "markdown",
      "source": [
        "2. What is/are the insight(s) found from the chart?"
      ],
      "metadata": {
        "id": "xiXi8B_blgBr"
      }
    },
    {
      "cell_type": "markdown",
      "source": [
        "Airport sees more \"No Cars Available\"\n",
        "\n",
        "City sees more cancellations"
      ],
      "metadata": {
        "id": "Ep4Fi9idljHi"
      }
    },
    {
      "cell_type": "markdown",
      "source": [
        "#### Chart - 19"
      ],
      "metadata": {
        "id": "C7Wqq73tlpN7"
      }
    },
    {
      "cell_type": "code",
      "source": [
        "df['Request timestamp'] = pd.to_datetime(df['Request timestamp'], dayfirst=True, errors='coerce')\n",
        "df['Weekday'] = df['Request timestamp'].dt.day_name()\n",
        "\n",
        "# Create a crosstab of status vs day of week\n",
        "status_by_day = pd.crosstab(df['Weekday'], df['Status'])\n",
        "\n",
        "# Reorder the weekdays\n",
        "status_by_day = status_by_day.reindex([\n",
        "    'Monday', 'Tuesday', 'Wednesday', 'Thursday', 'Friday', 'Saturday', 'Sunday'\n",
        "    ])\n",
        "\n",
        "# Plot\n",
        "status_by_day.plot(kind='bar', figsize=(10, 5), colormap='Accent')\n",
        "plt.title('Trip Status by Day of Week')\n",
        "plt.xlabel('Day of Week')\n",
        "plt.ylabel('Number of Requests')\n",
        "plt.grid()\n",
        "plt.xticks(rotation=45)\n",
        "plt.tight_layout()\n",
        "plt.show()"
      ],
      "metadata": {
        "id": "-sV2xBiKlrZj"
      },
      "execution_count": null,
      "outputs": []
    },
    {
      "cell_type": "markdown",
      "source": [
        "1. Why did you pick the specific chart?"
      ],
      "metadata": {
        "id": "MT63cT8ZmG5d"
      }
    },
    {
      "cell_type": "markdown",
      "source": [
        "This shows whether day of week affects Uber trip success/failure."
      ],
      "metadata": {
        "id": "iZQ0A6HNmKCX"
      }
    },
    {
      "cell_type": "markdown",
      "source": [
        "2. What is/are the insight(s) found from the chart?"
      ],
      "metadata": {
        "id": "GDgp1o9omP6b"
      }
    },
    {
      "cell_type": "markdown",
      "source": [
        "Weekdays see much higher failure rates, especially cancellations.\n",
        "\n",
        "Weekends are relatively smoother."
      ],
      "metadata": {
        "id": "WWQyt07MmToR"
      }
    },
    {
      "cell_type": "markdown",
      "source": [
        "#### Chart - 20"
      ],
      "metadata": {
        "id": "WN99pppEmamp"
      }
    },
    {
      "cell_type": "code",
      "source": [
        "status_hour = pd.crosstab(df['Request Hour'], df['Status'])\n",
        "status_hour.plot.area(stacked=True, figsize=(10,6), colormap='Set3', alpha=0.8)\n",
        "plt.title('Hourly Trend of Trip Status (Area Plot)')\n",
        "plt.xlabel('Hour')\n",
        "plt.ylabel('Number of Requests')\n",
        "plt.grid()\n",
        "plt.show()\n"
      ],
      "metadata": {
        "id": "OUBz1QVjmcpN"
      },
      "execution_count": null,
      "outputs": []
    },
    {
      "cell_type": "markdown",
      "source": [
        "1. Why did you pick the specific chart?"
      ],
      "metadata": {
        "id": "Ecugy0SSmgkY"
      }
    },
    {
      "cell_type": "markdown",
      "source": [
        "Area charts show how different trip statuses stack together over time. It's great for spotting overall pattern shifts."
      ],
      "metadata": {
        "id": "JNH7xcH0mj9l"
      }
    },
    {
      "cell_type": "markdown",
      "source": [
        "2. What is/are the insight(s) found from the chart?\n",
        "\n"
      ],
      "metadata": {
        "id": "pOcUEJJRmmGI"
      }
    },
    {
      "cell_type": "markdown",
      "source": [
        "Total volume rises in peak hours, but failures increase more than completions.\n",
        "\n",
        "Evening failures dominate over the successful rides."
      ],
      "metadata": {
        "id": "-WrfPN1omqHP"
      }
    },
    {
      "cell_type": "markdown",
      "source": [
        "## **5. Solution to Business Objective**"
      ],
      "metadata": {
        "id": "JcMwzZxoAimU"
      }
    },
    {
      "cell_type": "markdown",
      "source": [
        "#### What do you suggest the client to achieve Business Objective ?\n",
        "Explain Briefly."
      ],
      "metadata": {
        "id": "8G2x9gOozGDZ"
      }
    },
    {
      "cell_type": "markdown",
      "source": [
        "To solve the supply-demand mismatch and reduce trip failures, Uber should adopt the following targeted actions:\n",
        "\n",
        "\n",
        "\n",
        "*   Time-Specific Driver Allocation: Deploy more drivers during peak hours (especially 8–10 AM and 5–8 PM) based on high demand and failure trends.\n",
        "\n",
        "\n",
        "\n",
        "*   Location-Based Incentives: Offer special incentives to drivers operating in high-failure areas like Airport (evening) and City (morning) to boost availability.\n",
        "\n",
        "*   Cancellation Reduction Strategy: Implement stricter cancellation penalties or soft warnings for drivers who cancel frequently, especially in the morning slots.\n",
        "*    User Feedback Loop: Improve user experience by providing real-time updates on driver availability and alternate suggestions when rides are likely to fail.\n",
        "\n",
        "\n",
        "*   Predictive Scheduling & Demand Forecasting: Use predictive analytics to forecast upcoming demand surges and automate driver scheduling.\n",
        "\n",
        "\n",
        "Implementing these data-driven strategies will help Uber meet customer expectations, reduce trip failure rates, and improve operational efficiency.\n",
        "\n"
      ],
      "metadata": {
        "id": "pASKb0qOza21"
      }
    },
    {
      "cell_type": "markdown",
      "source": [
        "# **Conclusion**"
      ],
      "metadata": {
        "id": "gCX9965dhzqZ"
      }
    },
    {
      "cell_type": "markdown",
      "source": [
        "This EDA project uncovered deep insights into Uber’s ride request data, highlighting a significant gap between supply and demand, especially during peak hours. Through comprehensive analysis and visualization, we identified the root causes of trip failures — such as driver shortages, cancellation behaviors, and location/time imbalances.\n",
        "\n",
        "The analysis suggests that by focusing on smart driver allocation, policy-level interventions, and demand-aware scheduling, Uber can significantly improve trip completion rates, enhance customer satisfaction, and drive positive business impact.\n",
        "\n",
        "In conclusion, data-driven operational strategies are essential for Uber to bridge the supply-demand gap, improve service reliability, and maintain a competitive advantage in the ride-hailing industry."
      ],
      "metadata": {
        "id": "Fjb1IsQkh3yE"
      }
    },
    {
      "cell_type": "markdown",
      "source": [
        "### ***Hurrah! You have successfully completed your EDA Capstone Project !!!***"
      ],
      "metadata": {
        "id": "gIfDvo9L0UH2"
      }
    },
    {
      "cell_type": "code",
      "source": [],
      "metadata": {
        "id": "dYX880etpL0x"
      },
      "execution_count": null,
      "outputs": []
    },
    {
      "cell_type": "code",
      "source": [],
      "metadata": {
        "id": "-6Vl263upPVI"
      },
      "execution_count": null,
      "outputs": []
    }
  ]
}